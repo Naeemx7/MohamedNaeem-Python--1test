{
 "cells": [
  {
   "cell_type": "markdown",
   "id": "f84ae61e",
   "metadata": {},
   "source": [
    "محمد نعيم محمد محمد شوشة #1 "
   ]
  },
  {
   "cell_type": "code",
   "execution_count": 1,
   "id": "0a13b570",
   "metadata": {},
   "outputs": [],
   "source": [
    "set ={15,0.5,\"apple\",True}"
   ]
  },
  {
   "cell_type": "code",
   "execution_count": 2,
   "id": "69b35334",
   "metadata": {},
   "outputs": [
    {
     "data": {
      "text/plain": [
       "{0.5, 15, True, 'apple'}"
      ]
     },
     "execution_count": 2,
     "metadata": {},
     "output_type": "execute_result"
    }
   ],
   "source": [
    "set"
   ]
  },
  {
   "cell_type": "code",
   "execution_count": 3,
   "id": "f47f1a00",
   "metadata": {},
   "outputs": [],
   "source": [
    "list =[20,0.6,\"Banana\",False]"
   ]
  },
  {
   "cell_type": "code",
   "execution_count": 4,
   "id": "b9b0a84d",
   "metadata": {},
   "outputs": [
    {
     "data": {
      "text/plain": [
       "[20, 0.6, 'Banana', False]"
      ]
     },
     "execution_count": 4,
     "metadata": {},
     "output_type": "execute_result"
    }
   ],
   "source": [
    "list"
   ]
  },
  {
   "cell_type": "code",
   "execution_count": 6,
   "id": "f39499e7",
   "metadata": {},
   "outputs": [],
   "source": [
    "tuple =(50,0.10,\"Orange\",False)"
   ]
  },
  {
   "cell_type": "code",
   "execution_count": 7,
   "id": "3bc433e8",
   "metadata": {},
   "outputs": [
    {
     "data": {
      "text/plain": [
       "(50, 0.1, 'Orange', False)"
      ]
     },
     "execution_count": 7,
     "metadata": {},
     "output_type": "execute_result"
    }
   ],
   "source": [
    "tuple"
   ]
  },
  {
   "cell_type": "code",
   "execution_count": 4,
   "id": "93a22de8",
   "metadata": {},
   "outputs": [],
   "source": [
    "dict ={int:8,\n",
    "float:0.19\n",
    ",str:\"Strawberry\"\n",
    ",bool:True}"
   ]
  },
  {
   "cell_type": "code",
   "execution_count": 5,
   "id": "e248ab70",
   "metadata": {},
   "outputs": [
    {
     "data": {
      "text/plain": [
       "{int: 8, float: 0.19, str: 'Strawberry', bool: True}"
      ]
     },
     "execution_count": 5,
     "metadata": {},
     "output_type": "execute_result"
    }
   ],
   "source": [
    "dict"
   ]
  },
  {
   "cell_type": "code",
   "execution_count": null,
   "id": "736f4be5",
   "metadata": {},
   "outputs": [],
   "source": []
  }
 ],
 "metadata": {
  "kernelspec": {
   "display_name": "Python 3 (ipykernel)",
   "language": "python",
   "name": "python3"
  },
  "language_info": {
   "codemirror_mode": {
    "name": "ipython",
    "version": 3
   },
   "file_extension": ".py",
   "mimetype": "text/x-python",
   "name": "python",
   "nbconvert_exporter": "python",
   "pygments_lexer": "ipython3",
   "version": "3.11.4"
  }
 },
 "nbformat": 4,
 "nbformat_minor": 5
}
